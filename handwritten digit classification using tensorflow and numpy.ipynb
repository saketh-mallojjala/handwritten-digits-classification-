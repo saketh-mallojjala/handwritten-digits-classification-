{
 "cells": [
  {
   "cell_type": "code",
   "execution_count": 77,
   "id": "7b170d20",
   "metadata": {},
   "outputs": [],
   "source": [
    "import tensorflow as tf\n",
    "from tensorflow import keras\n",
    "import matplotlib.pyplot as plt\n",
    "%matplotlib inline\n",
    "import numpy as np\n"
   ]
  },
  {
   "cell_type": "code",
   "execution_count": 78,
   "id": "c6825903",
   "metadata": {},
   "outputs": [],
   "source": [
    "(x_train,y_train),(x_test,y_test)=keras.datasets.mnist.load_data()"
   ]
  },
  {
   "cell_type": "code",
   "execution_count": 79,
   "id": "4bfc5aef",
   "metadata": {},
   "outputs": [
    {
     "data": {
      "text/plain": [
       "60000"
      ]
     },
     "execution_count": 79,
     "metadata": {},
     "output_type": "execute_result"
    }
   ],
   "source": [
    "len(x_train)\n"
   ]
  },
  {
   "cell_type": "code",
   "execution_count": 80,
   "id": "3bdf5bc3",
   "metadata": {},
   "outputs": [
    {
     "data": {
      "text/plain": [
       "10000"
      ]
     },
     "execution_count": 80,
     "metadata": {},
     "output_type": "execute_result"
    }
   ],
   "source": [
    "len(x_test)"
   ]
  },
  {
   "cell_type": "code",
   "execution_count": 81,
   "id": "236289b4",
   "metadata": {},
   "outputs": [
    {
     "data": {
      "text/plain": [
       "(28, 28)"
      ]
     },
     "execution_count": 81,
     "metadata": {},
     "output_type": "execute_result"
    }
   ],
   "source": [
    "x_train[0].shape\n"
   ]
  },
  {
   "cell_type": "code",
   "execution_count": 82,
   "id": "368e0419",
   "metadata": {},
   "outputs": [
    {
     "data": {
      "text/plain": [
       "<matplotlib.image.AxesImage at 0x1fd1a354350>"
      ]
     },
     "execution_count": 82,
     "metadata": {},
     "output_type": "execute_result"
    },
    {
     "data": {
      "image/png": "[encoded data removed]",
      "text/plain": [
       "<Figure size 480x480 with 1 Axes>"
      ]
     },
     "metadata": {},
     "output_type": "display_data"
    }
   ],
   "source": [
    "plt.matshow(x_train[0])"
   ]
  },
  {
   "cell_type": "code",
   "execution_count": 83,
   "id": "6dbfad1b",
   "metadata": {},
   "outputs": [
    {
     "data": {
      "text/plain": [
       "5"
      ]
     },
     "execution_count": 83,
     "metadata": {},
     "output_type": "execute_result"
    }
   ],
   "source": [
    "y_train[0]"
   ]
  },
  {
   "cell_type": "code",
   "execution_count": 84,
   "id": "aff76e5f",
   "metadata": {},
   "outputs": [
    {
     "data": {
      "text/plain": [
       "(60000, 28, 28)"
      ]
     },
     "execution_count": 84,
     "metadata": {},
     "output_type": "execute_result"
    }
   ],
   "source": [
    "x_train.shape"
   ]
  },
  {
   "cell_type": "code",
   "execution_count": 85,
   "id": "483b4901",
   "metadata": {},
   "outputs": [],
   "source": [
    "x_train = x_train/255\n",
    "x_test = x_test/255"
   ]
  },
  {
   "cell_type": "code",
   "execution_count": null,
   "id": "f375a328",
   "metadata": {},
   "outputs": [],
   "source": []
  },
  {
   "cell_type": "code",
   "execution_count": 86,
   "id": "e40cdc6b",
   "metadata": {},
   "outputs": [],
   "source": [
    "x_trainflat = x_train.reshape(len(x_train),28*28)"
   ]
  },
  {
   "cell_type": "code",
   "execution_count": 87,
   "id": "f2602eb3",
   "metadata": {},
   "outputs": [],
   "source": [
    "x_testflat = x_test.reshape(len(x_test),28*28)\n"
   ]
  },
  {
   "cell_type": "code",
   "execution_count": 88,
   "id": "714509dc",
   "metadata": {},
   "outputs": [
    {
     "data": {
      "text/plain": [
       "5"
      ]
     },
     "execution_count": 88,
     "metadata": {},
     "output_type": "execute_result"
    }
   ],
   "source": [
    "y_train[0]"
   ]
  },
  {
   "cell_type": "code",
   "execution_count": 89,
   "id": "3b45c55c",
   "metadata": {},
   "outputs": [
    {
     "name": "stdout",
     "output_type": "stream",
     "text": [
      "Epoch 1/5\n",
      "1875/1875 [==============================] - 5s 3ms/step - loss: 0.2676 - accuracy: 0.9244\n",
      "Epoch 2/5\n",
      "1875/1875 [==============================] - 6s 3ms/step - loss: 0.1203 - accuracy: 0.9650\n",
      "Epoch 3/5\n",
      "1875/1875 [==============================] - 5s 3ms/step - loss: 0.0862 - accuracy: 0.9743\n",
      "Epoch 4/5\n",
      "1875/1875 [==============================] - 5s 3ms/step - loss: 0.0643 - accuracy: 0.9808\n",
      "Epoch 5/5\n",
      "1875/1875 [==============================] - 5s 3ms/step - loss: 0.0519 - accuracy: 0.9845\n"
     ]
    },
    {
     "data": {
      "text/plain": [
       "<keras.callbacks.History at 0x1fd1a3b8bd0>"
      ]
     },
     "execution_count": 89,
     "metadata": {},
     "output_type": "execute_result"
    }
   ],
   "source": [
    "model = keras.Sequential([\n",
    "    keras.layers.Dense(100,input_shape=(784,),activation='relu'),\n",
    "    keras.layers.Dense(10,activation='sigmoid')\n",
    "])\n",
    " \n",
    "model.compile(optimizer='adam',\n",
    "              loss = 'sparse_categorical_crossentropy',\n",
    "              metrics = ['accuracy']\n",
    ")\n",
    "#tb_callback = tf.keras.callbacks.TensorBoard(log_dir=\"logs/\", histogram_freq=1)\n",
    "model.fit(x_trainflat,y_train,epochs=5)"
   ]
  },
  {
   "cell_type": "code",
   "execution_count": 90,
   "id": "355d7813",
   "metadata": {},
   "outputs": [
    {
     "name": "stdout",
     "output_type": "stream",
     "text": [
      "313/313 [==============================] - 1s 2ms/step\n"
     ]
    }
   ],
   "source": [
    "y_predict = model.predict(x_testflat)"
   ]
  },
  {
   "cell_type": "code",
   "execution_count": 91,
   "id": "f27bc33f",
   "metadata": {},
   "outputs": [
    {
     "data": {
      "text/plain": [
       "array([2.3441571e-04, 5.8824511e-04, 1.8418892e-01, 9.0241897e-01,\n",
       "       1.0182187e-06, 5.3635859e-03, 7.5929300e-08, 9.9998087e-01,\n",
       "       5.2161351e-02, 4.5197498e-02], dtype=float32)"
      ]
     },
     "execution_count": 91,
     "metadata": {},
     "output_type": "execute_result"
    }
   ],
   "source": [
    "y_predict[0]"
   ]
  },
  {
   "cell_type": "code",
   "execution_count": 92,
   "id": "455e0ddb",
   "metadata": {},
   "outputs": [
    {
     "data": {
      "text/plain": [
       "7"
      ]
     },
     "execution_count": 92,
     "metadata": {},
     "output_type": "execute_result"
    }
   ],
   "source": [
    "np.argmax(y_predict[0])"
   ]
  },
  {
   "cell_type": "code",
   "execution_count": 93,
   "id": "fb2f1e2d",
   "metadata": {},
   "outputs": [
    {
     "data": {
      "text/plain": [
       "7"
      ]
     },
     "execution_count": 93,
     "metadata": {},
     "output_type": "execute_result"
    }
   ],
   "source": [
    "y_test[0]"
   ]
  },
  {
   "cell_type": "code",
   "execution_count": 94,
   "id": "fed42355",
   "metadata": {},
   "outputs": [],
   "source": [
    "y_predictlabel = [np.argmax(i) for i in y_predict]"
   ]
  },
  {
   "cell_type": "code",
   "execution_count": 95,
   "id": "89f93bae",
   "metadata": {},
   "outputs": [
    {
     "data": {
      "text/plain": [
       "[7, 2, 1, 0, 4]"
      ]
     },
     "execution_count": 95,
     "metadata": {},
     "output_type": "execute_result"
    }
   ],
   "source": [
    "y_predictlabel[:5]"
   ]
  },
  {
   "cell_type": "code",
   "execution_count": 96,
   "id": "c1d1ca24",
   "metadata": {},
   "outputs": [
    {
     "data": {
      "text/plain": [
       "array([7, 2, 1, 0, 4], dtype=uint8)"
      ]
     },
     "execution_count": 96,
     "metadata": {},
     "output_type": "execute_result"
    }
   ],
   "source": [
    "y_test[:5]"
   ]
  },
  {
   "cell_type": "code",
   "execution_count": 97,
   "id": "89554937",
   "metadata": {},
   "outputs": [],
   "source": [
    "cm = tf.math.confusion_matrix(labels = y_test, predictions = y_predictlabel)"
   ]
  },
  {
   "cell_type": "code",
   "execution_count": 98,
   "id": "460f6088",
   "metadata": {},
   "outputs": [
    {
     "data": {
      "text/plain": [
       "<tf.Tensor: shape=(10, 10), dtype=int32, numpy=\n",
       "array([[ 970,    0,    1,    1,    1,    0,    1,    2,    2,    2],\n",
       "       [   0, 1129,    2,    1,    0,    1,    1,    0,    1,    0],\n",
       "       [   6,    2,  999,    6,    2,    1,    3,    3,   10,    0],\n",
       "       [   1,    0,    1,  991,    0,    6,    0,    6,    3,    2],\n",
       "       [   3,    0,    2,    1,  961,    1,    2,    3,    1,    8],\n",
       "       [   3,    3,    0,   11,    1,  860,    7,    1,    4,    2],\n",
       "       [   5,    4,    1,    1,    4,    5,  935,    0,    3,    0],\n",
       "       [   0,    8,    9,    4,    0,    1,    0,  996,    0,   10],\n",
       "       [   6,    1,    1,    7,    3,    8,    1,    4,  939,    4],\n",
       "       [   1,    8,    0,    6,    8,    1,    0,    4,    2,  979]])>"
      ]
     },
     "execution_count": 98,
     "metadata": {},
     "output_type": "execute_result"
    }
   ],
   "source": [
    "cm"
   ]
  },
  {
   "cell_type": "code",
   "execution_count": 99,
   "id": "d5ab2ed2",
   "metadata": {},
   "outputs": [
    {
     "data": {
      "text/plain": [
       "Text(95.72222222222221, 0.5, 'Truth')"
      ]
     },
     "execution_count": 99,
     "metadata": {},
     "output_type": "execute_result"
    },
    {
     "data": {
      "image/png": "[encoded data removed]",
      "text/plain": [
       "<Figure size 1000x700 with 2 Axes>"
      ]
     },
     "metadata": {},
     "output_type": "display_data"
    }
   ],
   "source": [
    "import seaborn as sn\n",
    "plt.figure(figsize=(10,7))\n",
    "sn.heatmap(cm,annot=True,fmt ='d')\n",
    "plt.xlabel('predicted')\n",
    "plt.ylabel('Truth')"
   ]
  },
  {
   "cell_type": "code",
   "execution_count": 100,
   "id": "d089719a",
   "metadata": {},
   "outputs": [
    {
     "data": {
      "text/plain": [
       "[array([[-0.04909047, -0.03682936, -0.01038279, ..., -0.04220958,\n",
       "          0.01009327, -0.07642456],\n",
       "        [-0.03764492,  0.05180451,  0.08037043, ...,  0.0459778 ,\n",
       "          0.00492685, -0.05622272],\n",
       "        [-0.02145389, -0.0461564 , -0.01630774, ...,  0.01393355,\n",
       "          0.03033738, -0.00487986],\n",
       "        ...,\n",
       "        [-0.03187615, -0.07264499,  0.07456394, ...,  0.01291762,\n",
       "         -0.01066757, -0.06754624],\n",
       "        [-0.01762038,  0.03175166, -0.06052575, ...,  0.06939365,\n",
       "          0.07542503,  0.06113994],\n",
       "        [-0.02484313,  0.05035146, -0.05352108, ...,  0.07117018,\n",
       "          0.0453379 ,  0.05757301]], dtype=float32),\n",
       " array([ 0.03084322,  0.01005523,  0.08560001, -0.06013582,  0.00275378,\n",
       "         0.00379179,  0.00462428,  0.00196987,  0.04608804,  0.02910517,\n",
       "         0.09089965,  0.00041546, -0.01654727,  0.02126304,  0.06178626,\n",
       "        -0.01528017,  0.08197109,  0.06975853,  0.00238721,  0.0273734 ,\n",
       "        -0.0321292 ,  0.1927359 ,  0.09114463, -0.08104711,  0.01841491,\n",
       "        -0.04203752, -0.02879416, -0.03273905,  0.20070654,  0.0572474 ,\n",
       "         0.03873977, -0.04788227, -0.02745336,  0.01683931,  0.02494791,\n",
       "         0.13065578,  0.05222009, -0.10240739, -0.00944831,  0.06055216,\n",
       "         0.10840913,  0.14189413,  0.04184458, -0.02170387,  0.0985036 ,\n",
       "        -0.07138893,  0.12168357,  0.15002191,  0.02025938,  0.03934435,\n",
       "         0.02441427, -0.03088061,  0.02897771,  0.05694245,  0.06976479,\n",
       "        -0.08995278,  0.11505394,  0.09580127,  0.02795882, -0.02212805,\n",
       "         0.04156804, -0.05123896,  0.1855755 , -0.04215318, -0.01880709,\n",
       "        -0.02090242,  0.02950326, -0.00485115,  0.04507942,  0.0845593 ,\n",
       "         0.0551065 , -0.01774213,  0.01855345, -0.11339223, -0.02116271,\n",
       "         0.05452557, -0.01349542,  0.07386062,  0.04164484, -0.14842393,\n",
       "        -0.02516578,  0.07272102,  0.07579864,  0.09531426, -0.00725979,\n",
       "        -0.00864343,  0.01268617,  0.01591489,  0.17876181, -0.08507919,\n",
       "         0.06265644,  0.03104957,  0.00428511,  0.22384818,  0.03989287,\n",
       "         0.05531289,  0.07943834,  0.05275163,  0.07559601,  0.2564642 ],\n",
       "       dtype=float32),\n",
       " array([[-1.76864982e-01,  4.01122868e-01,  5.16256690e-02,\n",
       "          3.23493391e-01, -5.37730396e-01, -2.59614110e-01,\n",
       "         -2.41281658e-01,  3.78420800e-01, -3.37719947e-01,\n",
       "         -3.38728398e-01],\n",
       "        [ 2.18783125e-01, -8.32565784e-01, -3.23372513e-01,\n",
       "         -3.17249417e-01,  1.60270244e-01,  1.18238330e-01,\n",
       "         -8.54819715e-02, -1.43424720e-01,  1.14600673e-01,\n",
       "          1.23407677e-01],\n",
       "        [-3.87694150e-01, -5.83356380e-01, -1.50727779e-01,\n",
       "          3.56163979e-01, -9.32405949e-01,  6.98114038e-02,\n",
       "         -4.51935381e-01,  2.52120823e-01, -3.32126245e-02,\n",
       "         -1.07904240e-01],\n",
       "        [-1.01024635e-01,  4.34080571e-01, -5.45985438e-02,\n",
       "         -4.57234919e-01,  2.42107168e-01, -3.74957114e-01,\n",
       "         -2.13273466e-01,  2.44004667e-01,  2.01965556e-01,\n",
       "         -5.26541054e-01],\n",
       "        [ 1.93669304e-01, -2.83297479e-01,  2.71571517e-01,\n",
       "          2.70050671e-02, -5.68317354e-01, -1.56417936e-01,\n",
       "         -9.40469503e-02,  2.98106164e-01, -2.48948082e-01,\n",
       "          2.28238001e-01],\n",
       "        [ 1.77861243e-01,  4.29783136e-01,  2.16636449e-01,\n",
       "         -2.36215487e-01,  2.52929866e-01, -7.01114893e-01,\n",
       "         -2.97142208e-01,  2.70171016e-01, -2.09695891e-01,\n",
       "          1.32669538e-01],\n",
       "        [-1.29510865e-01, -2.13917732e-01,  8.61137435e-02,\n",
       "         -1.28568739e-01,  6.45883679e-02, -2.43435457e-01,\n",
       "         -9.74958539e-02, -2.15083525e-01,  1.48799166e-01,\n",
       "         -7.46377259e-02],\n",
       "        [ 7.39837661e-02, -2.58539431e-02,  5.01947328e-02,\n",
       "         -6.94731483e-03, -1.65424511e-01,  7.22873136e-02,\n",
       "          7.33379275e-02, -3.68804723e-01,  2.52324522e-01,\n",
       "          8.28842595e-02],\n",
       "        [ 2.98201501e-01,  1.77549317e-01, -8.14771932e-03,\n",
       "         -6.41956329e-01,  4.55047041e-01,  4.21091974e-01,\n",
       "         -1.65961161e-01, -3.53695661e-01,  2.09627971e-01,\n",
       "         -7.26116821e-02],\n",
       "        [-5.67115068e-01,  3.09689611e-01,  1.23692624e-01,\n",
       "          2.49360397e-01,  2.58681893e-01,  1.58605203e-01,\n",
       "         -2.11437047e-01, -2.40096420e-01,  2.27539614e-01,\n",
       "         -1.49697587e-01],\n",
       "        [ 2.11588383e-01,  1.95735276e-01, -3.93307880e-02,\n",
       "          6.00140281e-02, -3.36849064e-01,  1.29235968e-01,\n",
       "         -8.41691419e-02, -5.83802089e-02, -2.99718201e-01,\n",
       "         -4.02241200e-01],\n",
       "        [ 2.48115100e-02,  2.52665341e-01,  2.39281058e-01,\n",
       "          8.55998024e-02,  1.67761445e-01,  4.34783213e-02,\n",
       "          1.94003433e-01, -5.90135992e-01,  2.66867112e-02,\n",
       "         -4.03212607e-01],\n",
       "        [-2.65392184e-01, -1.76220849e-01, -4.16370124e-01,\n",
       "          1.37431696e-01,  4.62934226e-02,  1.21374674e-01,\n",
       "          2.44815230e-01, -3.18027377e-01,  1.70260891e-01,\n",
       "         -1.55587029e-02],\n",
       "        [-6.65645838e-01,  6.14176273e-01, -2.16004834e-01,\n",
       "         -7.84549117e-02,  4.11250412e-01, -7.41737008e-01,\n",
       "         -1.30958468e-01,  3.22559476e-02, -3.19401830e-01,\n",
       "         -4.35193539e-01],\n",
       "        [-2.70914525e-01,  3.32654119e-01,  1.05703346e-01,\n",
       "         -3.61273974e-01,  2.78063387e-01, -5.79503059e-01,\n",
       "         -5.08281350e-01,  9.23573878e-03, -3.83547157e-01,\n",
       "          3.44486624e-01],\n",
       "        [-3.80402952e-02, -4.20892537e-01,  1.11250520e-01,\n",
       "         -1.35359809e-01,  3.82229909e-02, -1.56101048e-01,\n",
       "         -2.57246912e-01, -1.28438115e-01,  1.70428008e-01,\n",
       "          9.89238918e-02],\n",
       "        [-4.69212115e-01, -3.94536912e-01,  7.87715986e-02,\n",
       "         -2.83576529e-02,  2.36631259e-01,  2.46883482e-01,\n",
       "          2.70532876e-01,  3.11344624e-01, -4.50587243e-01,\n",
       "         -2.94921279e-01],\n",
       "        [ 6.04790412e-02, -9.63747408e-03,  1.61216930e-01,\n",
       "         -2.09760442e-02,  1.46889672e-01,  3.12233448e-01,\n",
       "          2.26288021e-01,  1.39264211e-01,  1.82952449e-01,\n",
       "         -5.57294607e-01],\n",
       "        [ 2.28054151e-01,  5.09104840e-02,  1.80254340e-01,\n",
       "          1.34543285e-01, -5.90047956e-01,  1.99254885e-01,\n",
       "          2.64213860e-01, -4.81344938e-01,  1.16839685e-01,\n",
       "         -6.05505519e-02],\n",
       "        [ 1.22227088e-01, -4.02423352e-01,  8.84638354e-03,\n",
       "          1.15724318e-01,  1.82337821e-01,  4.63751778e-02,\n",
       "          1.56255946e-01, -1.19809374e-01, -2.53479509e-03,\n",
       "         -4.89279449e-01],\n",
       "        [-2.79184729e-01,  1.57772273e-01,  1.68435901e-01,\n",
       "          3.99990737e-01, -2.52968699e-01,  4.54916537e-01,\n",
       "         -7.33452797e-01, -1.19251326e-01, -5.55952072e-01,\n",
       "          2.47888625e-01],\n",
       "        [ 2.16509476e-01, -8.16308334e-02,  6.80611357e-02,\n",
       "         -1.36804208e-01, -5.48719347e-01,  2.18197033e-01,\n",
       "          2.37378865e-01, -6.24646306e-01,  6.84442222e-02,\n",
       "          2.97401696e-01],\n",
       "        [-1.40217543e-01, -7.32731879e-01,  5.51507533e-01,\n",
       "         -3.83619845e-01, -3.36696673e-03, -4.24146838e-02,\n",
       "          2.99477667e-01,  1.64208472e-01,  1.46788806e-01,\n",
       "         -2.62693465e-01],\n",
       "        [-1.88519612e-01,  3.45324188e-01,  2.24567831e-01,\n",
       "          1.78231210e-01,  3.14114690e-01, -9.88814294e-01,\n",
       "         -6.17955923e-01,  1.02089666e-01,  3.22646275e-02,\n",
       "         -9.80983526e-02],\n",
       "        [-1.73809290e-01, -3.54575664e-02, -6.73895359e-01,\n",
       "         -3.30734551e-01, -5.99278390e-01,  6.29079342e-01,\n",
       "          2.89891452e-01,  1.32974282e-01, -2.59433120e-01,\n",
       "          1.16469242e-01],\n",
       "        [-9.71997604e-02, -1.14693128e-01,  3.52113515e-01,\n",
       "         -2.91090339e-01, -6.14398241e-01, -3.65763456e-01,\n",
       "         -2.28680491e-01,  7.04914257e-02,  4.50100243e-01,\n",
       "         -8.18477452e-01],\n",
       "        [ 5.75500168e-02,  5.33814356e-02, -6.42252922e-01,\n",
       "          4.05982286e-02, -1.85717210e-01,  8.49028751e-02,\n",
       "          3.26017350e-01,  1.32205695e-01, -2.99152344e-01,\n",
       "          1.06797546e-01],\n",
       "        [ 2.07373708e-01, -3.02056193e-01,  5.45949899e-02,\n",
       "          1.19539492e-01,  1.41407222e-01, -5.94572909e-02,\n",
       "          1.92013141e-02, -9.20216292e-02,  1.71349421e-01,\n",
       "         -1.85004115e-01],\n",
       "        [ 7.59753287e-02, -6.29213825e-02,  1.44164369e-01,\n",
       "         -2.64392167e-01,  1.24547601e-01,  3.73885810e-01,\n",
       "         -4.84919906e-01, -1.41459152e-01, -6.94921732e-01,\n",
       "          1.40765756e-01],\n",
       "        [-6.48710251e-01,  4.15460497e-01, -1.50653869e-01,\n",
       "         -6.72843978e-02,  2.03505099e-01,  1.31616563e-01,\n",
       "         -2.83755094e-01, -2.52807766e-01,  1.91267088e-01,\n",
       "          1.45777725e-02],\n",
       "        [-2.47161239e-01, -4.75165159e-01, -2.66987592e-01,\n",
       "          1.55176431e-01,  1.48012415e-01, -4.86570671e-02,\n",
       "         -2.56961465e-01, -1.24991439e-01, -5.78318611e-02,\n",
       "          2.34743748e-02],\n",
       "        [-2.14393601e-01, -1.96367770e-01,  1.25700429e-01,\n",
       "          2.23240629e-01,  1.29817724e-01,  1.72479302e-02,\n",
       "         -1.03756346e-01,  2.28147075e-01,  2.36412525e-01,\n",
       "         -8.28487724e-02],\n",
       "        [-4.35234010e-01,  2.03730941e-01, -2.28867814e-01,\n",
       "          4.85924095e-01,  3.39812309e-01, -7.38260806e-01,\n",
       "          1.09478854e-01,  1.98798791e-01,  1.17248155e-01,\n",
       "          1.78982452e-01],\n",
       "        [ 1.61505081e-02,  2.49865592e-01, -1.60993129e-01,\n",
       "         -4.37051088e-01,  3.08243573e-01, -4.38293546e-01,\n",
       "          4.91796024e-02,  1.39938056e-01, -5.12684882e-01,\n",
       "          2.04980195e-01],\n",
       "        [-1.40084296e-01, -1.68263480e-01, -7.46937469e-02,\n",
       "          7.11669475e-02,  4.51429896e-02,  1.07895203e-01,\n",
       "         -4.14377093e-01,  3.92328165e-02,  1.99609712e-01,\n",
       "         -3.15749906e-02],\n",
       "        [-5.53698421e-01, -3.97545129e-01,  4.41803366e-01,\n",
       "         -9.83746052e-02,  1.36213630e-01,  1.09071590e-01,\n",
       "         -6.07862234e-01,  1.55642211e-01, -5.89219444e-02,\n",
       "         -1.11698084e-01],\n",
       "        [-1.09160028e-01,  8.10367242e-02,  1.44595638e-01,\n",
       "          3.89792204e-01, -4.30187106e-01, -4.62574005e-01,\n",
       "          4.35354382e-01,  3.24409902e-01, -5.45055330e-01,\n",
       "         -2.91420948e-02],\n",
       "        [ 3.77966970e-01,  1.94926023e-01, -3.67517509e-02,\n",
       "          8.53654444e-02, -4.76287067e-01, -2.60004908e-01,\n",
       "          1.94745570e-01, -3.82513285e-01,  1.14264265e-01,\n",
       "          1.02418274e-01],\n",
       "        [-6.12571180e-01,  1.39773071e-01,  1.86317399e-01,\n",
       "          2.40503535e-01, -7.91069806e-01,  4.49006706e-01,\n",
       "         -2.17714623e-01,  1.89284623e-01, -9.59192961e-02,\n",
       "         -5.73509991e-01],\n",
       "        [-6.89242244e-01,  1.89704746e-01,  4.62527037e-01,\n",
       "         -6.14678711e-02, -3.67693990e-01,  2.34642640e-01,\n",
       "         -4.28546183e-02,  3.21469218e-01, -3.64204139e-01,\n",
       "         -6.01270318e-01],\n",
       "        [-9.08588246e-02, -1.75285801e-01,  2.43567631e-01,\n",
       "         -5.01169086e-01,  2.66733468e-01,  2.66475886e-01,\n",
       "         -5.22330821e-01,  1.05242126e-01, -4.05782282e-01,\n",
       "          6.20029261e-03],\n",
       "        [-2.17527866e-01, -3.15866351e-01, -6.09544694e-01,\n",
       "         -3.89772415e-01,  7.16448873e-02,  3.28899652e-01,\n",
       "          3.65862310e-01, -2.20695123e-01,  1.03506677e-01,\n",
       "          2.40735844e-01],\n",
       "        [ 2.30679251e-02,  1.10639304e-01, -1.72569767e-01,\n",
       "         -2.65823036e-01, -2.56892979e-01,  1.79317191e-01,\n",
       "          1.53751031e-01, -2.66312659e-01,  1.96906731e-01,\n",
       "         -1.78045824e-01],\n",
       "        [ 1.00724302e-01, -3.74753475e-01, -1.59361124e-01,\n",
       "         -4.30994481e-02,  5.83827170e-03, -1.64809804e-02,\n",
       "          2.00401485e-01, -2.65440315e-01,  1.31080359e-01,\n",
       "         -3.06027476e-02],\n",
       "        [ 1.32521568e-02,  2.25240096e-01, -4.36424315e-01,\n",
       "          8.98802653e-02, -1.22700192e-01, -2.99789429e-01,\n",
       "         -2.86678582e-01,  4.17914480e-01, -1.49671316e-01,\n",
       "         -1.64910927e-01],\n",
       "        [-1.92821309e-01, -3.20026763e-02, -3.32985908e-01,\n",
       "          1.87274203e-01, -2.77566463e-01, -2.34504603e-03,\n",
       "         -2.78181970e-01,  6.57064393e-02,  6.57708496e-02,\n",
       "          4.03617807e-02],\n",
       "        [-1.04997173e-01, -2.19994605e-01, -4.42780890e-02,\n",
       "         -3.96331668e-01,  1.47224560e-01,  2.89173752e-01,\n",
       "          1.97421893e-01,  2.48249814e-01,  1.93075240e-01,\n",
       "          6.63045868e-02],\n",
       "        [-4.56230670e-01, -5.95011950e-01, -4.15907316e-02,\n",
       "         -1.43729933e-02,  9.78405122e-03,  5.31057157e-02,\n",
       "         -5.74657261e-01, -6.06298447e-02,  8.30934793e-02,\n",
       "          4.26308885e-02],\n",
       "        [-7.10865617e-01,  1.02737553e-01, -2.54925400e-01,\n",
       "          1.36008516e-01,  2.17115298e-01, -2.21818581e-01,\n",
       "         -5.72198033e-01, -3.34741384e-01,  2.00275287e-01,\n",
       "          1.67940497e-01],\n",
       "        [ 4.23122466e-01,  2.17606336e-01,  1.92545831e-01,\n",
       "         -1.13536321e-01, -2.23288372e-01, -4.00247797e-02,\n",
       "         -5.19738756e-02, -1.96353227e-01, -8.19397330e-01,\n",
       "         -8.85130614e-02],\n",
       "        [ 2.49030277e-01,  6.82109827e-03, -1.94034398e-01,\n",
       "         -6.15158856e-01,  2.48106599e-01, -2.71723151e-01,\n",
       "         -1.41523167e-01,  2.67190695e-01, -2.48509303e-01,\n",
       "          3.77219804e-02],\n",
       "        [ 4.91523892e-02,  4.49389853e-02, -1.71837762e-01,\n",
       "          2.96327844e-02, -3.96614045e-01, -1.47804609e-02,\n",
       "         -7.54794598e-01,  4.87303473e-02, -5.65626919e-02,\n",
       "          7.51274303e-02],\n",
       "        [-9.63109061e-02,  1.37748450e-01,  2.76344568e-01,\n",
       "         -7.68677816e-02, -2.09352702e-01, -5.31888008e-01,\n",
       "          4.28295061e-02,  1.28149718e-01,  1.23541124e-01,\n",
       "          2.52795756e-01],\n",
       "        [ 2.07358226e-01, -2.58529156e-01,  4.10863459e-02,\n",
       "          2.23597258e-01, -5.48102021e-01,  1.66897252e-01,\n",
       "         -2.40153268e-01, -4.38314557e-01, -1.69587791e-01,\n",
       "         -1.79174468e-01],\n",
       "        [-2.43855387e-01, -1.77454606e-01,  2.50454128e-01,\n",
       "          2.58117586e-01, -3.25223118e-01,  1.45258293e-01,\n",
       "          3.53766292e-01,  3.28506678e-01, -2.87272990e-01,\n",
       "         -8.01409662e-01],\n",
       "        [ 1.77483514e-01,  3.08537126e-01,  2.33466193e-01,\n",
       "          1.19555525e-01,  8.71813372e-02, -1.02317832e-01,\n",
       "          1.75186515e-01, -1.72270000e-01, -5.40601492e-01,\n",
       "         -6.80246234e-01],\n",
       "        [-5.03269732e-01, -7.41785318e-02, -7.09841192e-01,\n",
       "          3.99454087e-01,  1.60982057e-01,  4.22142833e-01,\n",
       "         -2.46862620e-01, -6.18662298e-01, -4.29945141e-01,\n",
       "          2.43829474e-01],\n",
       "        [-1.88839324e-02, -2.74191827e-01, -4.39386725e-01,\n",
       "         -8.04533124e-01,  4.70228530e-02, -5.59852235e-02,\n",
       "          3.71797025e-01,  2.86035001e-01, -1.65772259e-01,\n",
       "         -3.09773922e-01],\n",
       "        [-1.61012672e-02, -3.81801456e-01,  9.60886106e-02,\n",
       "          1.68635011e-01, -7.16318935e-02, -2.67305583e-01,\n",
       "          2.63494790e-01, -2.15147167e-01, -1.90545008e-01,\n",
       "          8.96469727e-02],\n",
       "        [-4.82345261e-02, -2.41999194e-01, -1.77889511e-01,\n",
       "          2.47118697e-01, -4.89851356e-01,  2.55176991e-01,\n",
       "          1.09350882e-01,  2.03194632e-03,  1.12232305e-01,\n",
       "         -1.49338827e-01],\n",
       "        [ 2.45784745e-01, -1.32831857e-01,  3.83499339e-02,\n",
       "         -4.22836930e-01,  2.53570855e-01, -3.22732031e-01,\n",
       "          4.15685400e-02,  3.15112621e-01, -1.82472423e-01,\n",
       "          2.81921297e-01],\n",
       "        [ 1.65248767e-01, -3.73876572e-01, -1.19882151e-01,\n",
       "          5.21111526e-02, -2.93544054e-01, -8.94411653e-02,\n",
       "          2.91381329e-02, -7.23146945e-02,  1.23604245e-01,\n",
       "          1.83647089e-02],\n",
       "        [ 5.79910092e-02, -1.40338242e-01, -9.01641369e-01,\n",
       "         -1.06722731e-02,  3.05029526e-02,  3.38240772e-01,\n",
       "          1.93600774e-01, -1.80886015e-01, -2.90186759e-02,\n",
       "          1.67935327e-01],\n",
       "        [ 2.67635826e-02,  3.41810703e-01, -1.53717741e-01,\n",
       "         -1.23196043e-01,  2.42506176e-01, -3.53882909e-01,\n",
       "          3.23442906e-01,  4.29266006e-01, -5.08503795e-01,\n",
       "          1.16676036e-02],\n",
       "        [-3.43578793e-02, -4.67231631e-01, -1.68154195e-01,\n",
       "         -4.18228395e-02, -5.44951148e-02, -2.45603442e-01,\n",
       "          1.27009466e-01, -3.53228182e-01, -2.03735217e-01,\n",
       "          2.53961116e-01],\n",
       "        [-2.86140323e-01, -4.99523252e-01, -2.13012636e-01,\n",
       "          1.51320651e-01, -1.64232031e-02, -5.35084486e-01,\n",
       "          4.08119321e-01, -9.54009965e-02,  6.59830421e-02,\n",
       "          2.45177120e-01],\n",
       "        [-4.02364284e-01,  1.14642218e-01,  3.66674632e-01,\n",
       "          6.13386780e-02, -3.43641430e-01, -3.89662348e-02,\n",
       "          1.49508398e-02,  6.48150146e-01, -6.15807891e-01,\n",
       "         -1.18107903e+00],\n",
       "        [-2.95003027e-01,  4.61728901e-01, -4.07284439e-01,\n",
       "         -4.32268441e-01,  7.89913774e-01,  3.48773390e-01,\n",
       "         -2.23491803e-01, -1.15074828e-01, -3.05380225e-01,\n",
       "         -7.70181596e-01],\n",
       "        [-2.87945867e-01,  1.28724165e-02, -1.38613597e-01,\n",
       "          1.60151601e-01,  1.99320510e-01, -6.14526272e-02,\n",
       "          3.68694328e-02,  1.07973129e-01,  7.76699632e-02,\n",
       "          1.49300069e-01],\n",
       "        [ 3.40448022e-01,  1.37512520e-01, -4.79169071e-01,\n",
       "         -9.03945342e-02, -4.49339658e-01,  1.94528699e-03,\n",
       "         -1.68644607e-01,  1.84842736e-01,  5.36796264e-02,\n",
       "         -1.34726867e-01],\n",
       "        [-2.20560133e-01, -2.27178097e-01, -2.78458744e-01,\n",
       "         -8.71198922e-02, -1.92067772e-01,  8.03136304e-02,\n",
       "         -3.03062886e-01,  2.44851410e-01,  4.75253910e-02,\n",
       "          5.88639546e-03],\n",
       "        [ 1.10872447e-01, -3.88962209e-01,  1.25927061e-01,\n",
       "         -8.67073685e-02, -2.90544093e-01, -1.77774951e-01,\n",
       "         -2.80294567e-01,  2.22779095e-01,  1.49180412e-01,\n",
       "          7.53045380e-02],\n",
       "        [ 1.38476580e-01, -1.03887133e-01, -6.22124746e-02,\n",
       "         -1.73610803e-02,  8.04573074e-02, -1.88431218e-02,\n",
       "         -9.38287228e-02,  2.45203033e-01,  8.76704976e-02,\n",
       "          2.02940151e-01],\n",
       "        [ 6.17673062e-02,  2.52236187e-01,  3.07900310e-01,\n",
       "         -2.82141771e-02,  3.92099954e-02, -5.68359792e-01,\n",
       "         -1.17594309e-01,  2.83669859e-01,  1.02281943e-01,\n",
       "         -2.04773366e-01],\n",
       "        [ 3.14729303e-01, -6.61507472e-02,  6.93226373e-03,\n",
       "         -5.98715842e-01,  2.16377795e-01, -5.27919948e-01,\n",
       "         -2.40790755e-01, -4.04348113e-02, -3.88717979e-01,\n",
       "          2.18313307e-01],\n",
       "        [-5.86632788e-01, -1.10764131e-01,  4.82798010e-01,\n",
       "         -1.07233368e-01, -1.59438893e-01,  3.75479937e-01,\n",
       "         -8.02696496e-02,  2.51513541e-01,  2.38111392e-01,\n",
       "         -5.47417641e-01],\n",
       "        [ 3.29133146e-03,  5.49523309e-02,  1.55523121e-01,\n",
       "          2.20933333e-01,  4.06444401e-01, -4.37238067e-01,\n",
       "          9.62369591e-02, -3.85798424e-01, -4.35760409e-01,\n",
       "         -1.66427344e-01],\n",
       "        [-3.06654572e-01,  2.88205236e-01,  4.80362922e-01,\n",
       "         -5.52604139e-01, -1.54580072e-01, -6.67226389e-02,\n",
       "          1.73947096e-01,  1.04174547e-01,  8.73252749e-03,\n",
       "         -2.65313774e-01],\n",
       "        [-3.54661867e-02,  5.05685449e-01, -2.35283121e-01,\n",
       "         -2.80586839e-01,  3.01822484e-01, -4.22995575e-02,\n",
       "          1.11571223e-01,  3.07540298e-01, -4.21246588e-01,\n",
       "          3.23998451e-01],\n",
       "        [ 8.48675147e-02,  1.28549486e-01,  2.34101713e-01,\n",
       "          2.75897741e-01, -4.21425283e-01, -3.12724113e-01,\n",
       "         -4.35123265e-01, -7.95903280e-02,  2.15333581e-01,\n",
       "          2.09570512e-01],\n",
       "        [ 3.35015833e-01, -5.02086803e-02,  3.23175937e-01,\n",
       "          2.05075681e-01, -7.40667403e-01, -1.36726931e-01,\n",
       "         -6.42534852e-01,  2.81801701e-01, -5.57327680e-02,\n",
       "          1.55212447e-01],\n",
       "        [ 4.94605415e-02, -3.28709245e-01,  2.71528780e-01,\n",
       "         -1.87887043e-01,  2.93502957e-01, -4.28901799e-02,\n",
       "          1.49988711e-01, -5.08964121e-01, -1.63750395e-01,\n",
       "         -2.21558362e-01],\n",
       "        [-2.90424824e-01,  3.50186855e-01,  2.06296802e-01,\n",
       "          7.87680447e-02, -3.28488946e-01,  1.46684572e-01,\n",
       "          8.52346718e-02, -1.50230169e-01, -6.05464615e-02,\n",
       "         -3.49771142e-01],\n",
       "        [-5.43950014e-02, -4.73227203e-01,  1.44203544e-01,\n",
       "         -4.07833934e-01,  1.61086723e-01,  6.82879686e-02,\n",
       "          2.66899168e-01, -4.37662959e-01,  3.25335413e-01,\n",
       "         -1.38341054e-01],\n",
       "        [ 1.07709631e-01,  1.63531989e-01, -1.48800090e-01,\n",
       "         -4.23791498e-01, -2.69502729e-01,  8.67234990e-02,\n",
       "          2.11633101e-01, -4.22155671e-02,  2.54078060e-01,\n",
       "         -2.70517558e-01],\n",
       "        [-2.25332484e-01, -2.31576607e-01, -4.71929200e-02,\n",
       "          1.98835477e-01, -3.54702741e-01,  1.59910172e-01,\n",
       "         -4.14897829e-01, -1.85414180e-01,  2.82016873e-01,\n",
       "          1.67034000e-01],\n",
       "        [-3.22580636e-01, -2.94811100e-01, -2.42393673e-03,\n",
       "          6.83514848e-02, -8.48696455e-02, -7.46758059e-02,\n",
       "         -2.97083139e-01, -8.85650292e-02,  1.65028255e-02,\n",
       "          4.03220505e-02],\n",
       "        [ 1.80506438e-01, -1.07247137e-01, -2.00110003e-01,\n",
       "          8.32543056e-03,  1.00730225e-01, -1.00173533e-01,\n",
       "         -6.72092021e-01, -3.27977128e-02, -5.20345271e-02,\n",
       "          1.75706968e-01],\n",
       "        [ 2.92037100e-01,  1.72248483e-01,  9.33262985e-04,\n",
       "         -2.67480999e-01, -4.19098824e-01,  1.57780394e-01,\n",
       "          3.23311985e-01,  5.68747580e-01, -2.32820123e-01,\n",
       "         -5.34952343e-01],\n",
       "        [ 2.57257551e-01,  9.59186777e-02,  6.93782493e-02,\n",
       "          2.63150215e-01, -7.02401519e-01, -1.61060691e-01,\n",
       "         -4.54797953e-01, -2.14682911e-02,  3.09359990e-02,\n",
       "         -1.12341106e-01],\n",
       "        [-9.34686005e-01,  2.06255347e-01, -7.40687847e-01,\n",
       "          2.73883790e-01, -2.48909052e-02,  2.13551193e-01,\n",
       "         -1.01830757e+00,  3.36732604e-02, -6.25115514e-01,\n",
       "          4.60140675e-01],\n",
       "        [-1.67761043e-01,  2.27559909e-01,  1.28722936e-01,\n",
       "          2.69540787e-01,  1.96903870e-01, -7.99261093e-01,\n",
       "          3.31131592e-02,  4.34649847e-02,  4.05287072e-02,\n",
       "          1.54089570e-01],\n",
       "        [ 1.63277641e-01,  3.48977782e-02, -2.60488123e-01,\n",
       "          3.25007290e-01, -5.99301457e-01,  2.49788851e-01,\n",
       "          3.00446987e-01, -3.66916716e-01, -4.36626887e-03,\n",
       "         -3.91424805e-01],\n",
       "        [-1.15488507e-01,  8.39302968e-03,  2.51850218e-01,\n",
       "          7.80187100e-02, -4.41605479e-01,  4.66639131e-01,\n",
       "         -4.54754353e-01,  4.08464074e-02, -1.77710697e-01,\n",
       "          3.89364362e-01],\n",
       "        [ 1.85545444e-01, -6.57840222e-02,  1.12766042e-01,\n",
       "         -5.89622185e-02, -5.37540793e-01, -1.19517120e-02,\n",
       "          1.52589470e-01,  6.96972087e-02,  8.97406191e-02,\n",
       "         -1.85370110e-02],\n",
       "        [-6.04279079e-02,  2.35726342e-01,  1.22242764e-01,\n",
       "          3.41825821e-02, -1.83739543e-01,  6.40054196e-02,\n",
       "          1.76772982e-01, -3.99883598e-01,  1.97631523e-01,\n",
       "         -1.08264357e-01],\n",
       "        [ 7.14018568e-02,  7.14310780e-02, -1.09659061e-01,\n",
       "         -3.18839639e-01,  3.94816726e-01,  2.58037329e-01,\n",
       "          1.98858887e-01, -4.17856932e-01,  2.34407872e-01,\n",
       "         -7.25423336e-01],\n",
       "        [-3.41258138e-01,  4.37928773e-02,  2.75163110e-02,\n",
       "          2.94663996e-01, -6.73879534e-02,  4.95527565e-01,\n",
       "         -6.71237826e-01, -3.74236315e-01, -6.67283595e-01,\n",
       "          1.63314000e-01],\n",
       "        [-2.95875877e-01, -2.93082856e-02,  1.90047592e-01,\n",
       "          5.86116537e-02,  2.39988361e-02,  1.48803310e-03,\n",
       "          1.25931054e-01, -4.37401496e-02,  1.71609506e-01,\n",
       "         -1.45767808e-01],\n",
       "        [-5.26205122e-01,  8.39125812e-02, -6.27456307e-01,\n",
       "         -3.64812315e-01,  6.84763789e-02,  1.12407431e-01,\n",
       "         -5.32732069e-01,  1.88996032e-01,  8.80096033e-02,\n",
       "          2.02163562e-01]], dtype=float32),\n",
       " array([-0.14992872, -0.0918379 ,  0.00248842, -0.04455255,  0.02704989,\n",
       "         0.09657362, -0.00980894, -0.03167087,  0.05285325,  0.06712894],\n",
       "       dtype=float32)]"
      ]
     },
     "execution_count": 100,
     "metadata": {},
     "output_type": "execute_result"
    }
   ],
   "source": [
    "model.get_weights()"
   ]
  }
 ],
 "metadata": {
  "kernelspec": {
   "display_name": "Python 3 (ipykernel)",
   "language": "python",
   "name": "python3"
  },
  "language_info": {
   "codemirror_mode": {
    "name": "ipython",
    "version": 3
   },
   "file_extension": ".py",
   "mimetype": "text/x-python",
   "name": "python",
   "nbconvert_exporter": "python",
   "pygments_lexer": "ipython3",
   "version": "3.11.1"
  }
 },
 "nbformat": 4,
 "nbformat_minor": 5
}
